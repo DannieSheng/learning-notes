{
 "cells": [
  {
   "attachments": {},
   "cell_type": "markdown",
   "metadata": {},
   "source": [
    "### Implementation"
   ]
  },
  {
   "cell_type": "code",
   "execution_count": 70,
   "metadata": {},
   "outputs": [],
   "source": [
    "class HashTable():\n",
    "    def __init__(self, size):\n",
    "        self.size = size\n",
    "        self.data = [None] * self.size\n",
    "\n",
    "    def _hash(self, key):\n",
    "        hash = 0\n",
    "        for i in range(len(key)):\n",
    "            # hash += ord(key[i])*i\n",
    "            # hash %= self.size\n",
    "            hash = (hash + ord(key[i])*i) % self.size \n",
    "        return hash\n",
    "    \n",
    "\n",
    "    def set(self, key, val):\n",
    "        hash = self._hash(key)\n",
    "        if not self.data[hash]:\n",
    "            self.data[hash] = [[key, val]]\n",
    "        else:\n",
    "            self.data[hash].append([key, val])\n",
    "        print(self.data)\n",
    "\n",
    "    def get(self, key):\n",
    "        hash = self._hash(key)\n",
    "        if self.data[hash]:\n",
    "            for _key, _item in self.data[hash]:\n",
    "                if _key == key:\n",
    "                    return _item\n",
    "        return None\n",
    "    \n",
    "    def keys(self):\n",
    "        # keys = []\n",
    "        # for i in range(len(self.data)):\n",
    "        #     if self.data[i]:\n",
    "        #         keys.append(self.data[i][0][0])\n",
    "        keys = [self.data[i][0][0] for i in range(len(self.data)) if self.data[i]]\n",
    "        return keys\n"
   ]
  },
  {
   "cell_type": "code",
   "execution_count": 71,
   "metadata": {},
   "outputs": [],
   "source": [
    "hash_table = HashTable(9)"
   ]
  },
  {
   "cell_type": "code",
   "execution_count": 75,
   "metadata": {},
   "outputs": [
    {
     "data": {
      "text/plain": [
       "1"
      ]
     },
     "execution_count": 75,
     "metadata": {},
     "output_type": "execute_result"
    }
   ],
   "source": [
    "hash_table._hash(\"applsfasdfadsadsfasdf\")"
   ]
  },
  {
   "cell_type": "code",
   "execution_count": 73,
   "metadata": {},
   "outputs": [
    {
     "data": {
      "text/plain": [
       "3"
      ]
     },
     "execution_count": 73,
     "metadata": {},
     "output_type": "execute_result"
    }
   ],
   "source": [
    "hash_table._hash(\"banana\")"
   ]
  },
  {
   "cell_type": "code",
   "execution_count": 64,
   "metadata": {},
   "outputs": [
    {
     "name": "stdout",
     "output_type": "stream",
     "text": [
      "[None, None, None, [['appl', 7]], None, None, None, None, None]\n"
     ]
    }
   ],
   "source": [
    "hash_table.set(\"appl\", 7)"
   ]
  },
  {
   "cell_type": "code",
   "execution_count": 65,
   "metadata": {},
   "outputs": [
    {
     "name": "stdout",
     "output_type": "stream",
     "text": [
      "[None, None, None, [['appl', 7], ['appl', 5]], None, None, None, None, None]\n"
     ]
    }
   ],
   "source": [
    "hash_table.set(\"appl\", 5)"
   ]
  },
  {
   "cell_type": "code",
   "execution_count": 67,
   "metadata": {},
   "outputs": [
    {
     "name": "stdout",
     "output_type": "stream",
     "text": [
      "[None, None, None, [['appl', 7], ['appl', 5], ['banana', 50], ['banana', 50]], None, None, None, None, None]\n"
     ]
    }
   ],
   "source": [
    "hash_table.set(\"banana\", 50)"
   ]
  },
  {
   "cell_type": "code",
   "execution_count": 60,
   "metadata": {},
   "outputs": [
    {
     "data": {
      "text/plain": [
       "7"
      ]
     },
     "execution_count": 60,
     "metadata": {},
     "output_type": "execute_result"
    }
   ],
   "source": [
    "hash_table.get('appl')"
   ]
  },
  {
   "cell_type": "code",
   "execution_count": 61,
   "metadata": {},
   "outputs": [
    {
     "data": {
      "text/plain": [
       "[None,\n",
       " None,\n",
       " None,\n",
       " [['appl', 7], ['appl', 5], ['banana', 50]],\n",
       " None,\n",
       " None,\n",
       " None,\n",
       " None,\n",
       " None]"
      ]
     },
     "execution_count": 61,
     "metadata": {},
     "output_type": "execute_result"
    }
   ],
   "source": [
    "hash_table.data"
   ]
  },
  {
   "cell_type": "code",
   "execution_count": 62,
   "metadata": {},
   "outputs": [
    {
     "data": {
      "text/plain": [
       "['appl']"
      ]
     },
     "execution_count": 62,
     "metadata": {},
     "output_type": "execute_result"
    }
   ],
   "source": [
    "hash_table.keys()"
   ]
  },
  {
   "attachments": {},
   "cell_type": "markdown",
   "metadata": {},
   "source": [
    "### First recurring Character\n",
    "\n",
    "Google Question  \n",
    "Given an array, return the first recurring character  \n",
    "Example1 : array = [2,1,4,2,6,5,1,4]  \n",
    "It should return 2  \n",
    "Example 2 : array = [2,6,4,6,1,3,8,1,2]  \n",
    "It should return 6  \n",
    "\n",
    "First thing that comes to mind is we can create a dictionary and keep storing each element of the array in the dictionary\n",
    "as we go along the array. But before adding the element to the dictionary, we'll check if the element is already present in the dictionary\n",
    "If yes, then we simply return the element and break out\n",
    "If not, then we add the element to the dictionary and move forward"
   ]
  },
  {
   "cell_type": "code",
   "execution_count": 79,
   "metadata": {},
   "outputs": [],
   "source": [
    "def first_recurring_character(arr):\n",
    "\n",
    "    temp = {}\n",
    "    for (i, n) in enumerate(arr):\n",
    "        if n in temp:\n",
    "            return n\n",
    "        temp[n] = i\n",
    "    return None"
   ]
  },
  {
   "cell_type": "code",
   "execution_count": 83,
   "metadata": {},
   "outputs": [],
   "source": [
    "first_recurring_character([2,6,5,1,4])"
   ]
  },
  {
   "cell_type": "code",
   "execution_count": null,
   "metadata": {},
   "outputs": [],
   "source": []
  }
 ],
 "metadata": {
  "kernelspec": {
   "display_name": "hier_cls",
   "language": "python",
   "name": "hier_cls"
  },
  "language_info": {
   "codemirror_mode": {
    "name": "ipython",
    "version": 3
   },
   "file_extension": ".py",
   "mimetype": "text/x-python",
   "name": "python",
   "nbconvert_exporter": "python",
   "pygments_lexer": "ipython3",
   "version": "3.9.12"
  },
  "orig_nbformat": 4
 },
 "nbformat": 4,
 "nbformat_minor": 2
}
