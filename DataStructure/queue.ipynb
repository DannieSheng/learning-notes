{
 "cells": [
  {
   "cell_type": "code",
   "execution_count": 5,
   "metadata": {},
   "outputs": [],
   "source": [
    "class Node():\n",
    "    def __init__(self, value):\n",
    "        self.value = value\n",
    "        self.next  = None\n",
    "\n",
    "class Queue(object):\n",
    "    def __init__(self): # initialized as an empty queue\n",
    "        self.first  = None\n",
    "        self.last   = None\n",
    "        self.length = 0\n",
    "\n",
    "    def print_queue(self):\n",
    "        if self.last is None:\n",
    "            print(\"Empty queue, return\")\n",
    "        else:\n",
    "            node = self.first\n",
    "            while node:\n",
    "                ending = \" -> \" if node.next else \".\"\n",
    "                print(node.value, end=ending)\n",
    "                node = node.next\n",
    "\n",
    "    def enque(self, item):\n",
    "        node = Node(item)\n",
    "        if self.last is None:\n",
    "            self.last = node\n",
    "            self.first = self.last\n",
    "        else:\n",
    "            self.last.next = node\n",
    "            self.last = node \n",
    "        self.length += 1\n",
    "\n",
    "    def deque(self):\n",
    "        if self.last is None:\n",
    "            print(\"Empty queue, return\")\n",
    "        else:\n",
    "            temp = self.first.next\n",
    "            self.first = temp\n",
    "            self.length -= 1\n",
    "\n",
    "    def peek(self):\n",
    "        return self.first.value"
   ]
  },
  {
   "cell_type": "code",
   "execution_count": 6,
   "metadata": {},
   "outputs": [],
   "source": [
    "vals = [1,4,5,2,10,90]"
   ]
  },
  {
   "cell_type": "code",
   "execution_count": 7,
   "metadata": {},
   "outputs": [
    {
     "name": "stdout",
     "output_type": "stream",
     "text": [
      "Empty queue, return\n",
      "1 ->4 ->5 ->2 ->10 ->90."
     ]
    }
   ],
   "source": [
    "my_queue = Queue()\n",
    "my_queue.print_queue()\n",
    "\n",
    "for v in vals:\n",
    "    my_queue.enque(v)\n",
    "my_queue.print_queue()"
   ]
  },
  {
   "cell_type": "code",
   "execution_count": 8,
   "metadata": {},
   "outputs": [
    {
     "data": {
      "text/plain": [
       "1"
      ]
     },
     "execution_count": 8,
     "metadata": {},
     "output_type": "execute_result"
    }
   ],
   "source": [
    "my_queue.peek()"
   ]
  },
  {
   "cell_type": "code",
   "execution_count": 9,
   "metadata": {},
   "outputs": [
    {
     "name": "stdout",
     "output_type": "stream",
     "text": [
      "4 ->5 ->2 ->10 ->90."
     ]
    }
   ],
   "source": [
    "my_queue.deque()\n",
    "my_queue.print_queue()"
   ]
  },
  {
   "cell_type": "code",
   "execution_count": 10,
   "metadata": {},
   "outputs": [
    {
     "name": "stdout",
     "output_type": "stream",
     "text": [
      "4 ->5 ->2 ->10 ->90 ->70."
     ]
    }
   ],
   "source": [
    "my_queue.enque(70)\n",
    "my_queue.print_queue()"
   ]
  },
  {
   "attachments": {},
   "cell_type": "markdown",
   "metadata": {},
   "source": [
    "### Array implementation (not recommended)"
   ]
  },
  {
   "cell_type": "code",
   "execution_count": null,
   "metadata": {},
   "outputs": [],
   "source": [
    "class Queue(object):\n",
    "    def __init__(self) -> None:\n",
    "        self._queue = []\n",
    "\n",
    "    def enque(self, item):\n",
    "        self._queue.append(item)\n",
    "\n",
    "    def deque(self):\n",
    "        self._queue.pop(0)\n",
    "\n",
    "    def is_empty(self):\n",
    "        return self._queue == []"
   ]
  }
 ],
 "metadata": {
  "kernelspec": {
   "display_name": "hier_cls",
   "language": "python",
   "name": "hier_cls"
  },
  "language_info": {
   "codemirror_mode": {
    "name": "ipython",
    "version": 3
   },
   "file_extension": ".py",
   "mimetype": "text/x-python",
   "name": "python",
   "nbconvert_exporter": "python",
   "pygments_lexer": "ipython3",
   "version": "3.9.12"
  },
  "orig_nbformat": 4
 },
 "nbformat": 4,
 "nbformat_minor": 2
}
