{
 "cells": [
  {
   "cell_type": "code",
   "execution_count": null,
   "metadata": {},
   "outputs": [],
   "source": [
    "class Queue(object):\n",
    "    def __init__(self) -> None:\n",
    "        self._queue = []\n",
    "\n",
    "    def enque(self, item):\n",
    "        self._queue.append(item)\n",
    "\n",
    "    def deque(self):\n",
    "        self._queue.pop(0)\n",
    "\n",
    "    def is_empty(self):\n",
    "        return self._queue == []"
   ]
  }
 ],
 "metadata": {
  "language_info": {
   "name": "python"
  },
  "orig_nbformat": 4
 },
 "nbformat": 4,
 "nbformat_minor": 2
}
