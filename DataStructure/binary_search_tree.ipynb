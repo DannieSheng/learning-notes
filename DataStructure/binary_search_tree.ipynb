{
 "cells": [
  {
   "cell_type": "code",
   "execution_count": 89,
   "metadata": {},
   "outputs": [],
   "source": [
    "class TreeNode(object):\n",
    "    def __init__(self, value=0):\n",
    "        self.value = value\n",
    "        self.left  = None\n",
    "        self.right = None\n",
    "\n",
    "class BinarySearchTree():\n",
    "    def __init__(self):\n",
    "        self.root = None\n",
    "        self.N    = 0\n",
    "\n",
    "    def insert(self, val):\n",
    "        new_node = TreeNode(val)\n",
    "        if self.root is None:\n",
    "            self.root = new_node\n",
    "            self.N += 1\n",
    "            return\n",
    "        else:\n",
    "            curr = self.root\n",
    "\n",
    "            while True:\n",
    "                if val > curr.value: # go right\n",
    "                    if curr.right is None:\n",
    "                        curr.right = new_node\n",
    "                        self.N += 1\n",
    "                        return\n",
    "                    else:\n",
    "                        curr = curr.right\n",
    "                elif val < curr.value:  # go left\n",
    "                    if curr.left is None:\n",
    "                        curr.left = new_node\n",
    "                        self.N += 1\n",
    "                        return\n",
    "                    else:\n",
    "                        curr = curr.left\n",
    "\n",
    "                else:\n",
    "                    print(\"Already exists, escape\")\n",
    "                    return\n",
    "\n",
    "\n",
    "    def lookup(self, val):\n",
    "        if self.root is None:\n",
    "            print(\"The tree is empty\")\n",
    "            return False\n",
    "        else:\n",
    "            curr = self.root\n",
    "            while curr:\n",
    "                if val == curr.value:\n",
    "                    return curr\n",
    "                elif val < curr.value:\n",
    "                    curr = curr.left\n",
    "                else:\n",
    "                    curr = curr.right\n",
    "            return False\n",
    "\n",
    "\n",
    "    def remove(self, value):\n",
    "        pass"
   ]
  },
  {
   "cell_type": "code",
   "execution_count": 90,
   "metadata": {},
   "outputs": [],
   "source": [
    "bst = BinarySearchTree()\n",
    "\n",
    "bst.insert(4)\n",
    "bst.insert(5)\n"
   ]
  },
  {
   "cell_type": "code",
   "execution_count": 93,
   "metadata": {},
   "outputs": [],
   "source": [
    "bst = BinarySearchTree()\n",
    "\n",
    "bst.insert(4)\n",
    "bst.insert(5)\n",
    "# bst.insert(5)\n",
    "bst.insert(6)"
   ]
  },
  {
   "cell_type": "code",
   "execution_count": 95,
   "metadata": {},
   "outputs": [
    {
     "name": "stdout",
     "output_type": "stream",
     "text": [
      "4\n",
      "\n",
      "\n",
      "5\n",
      "\n",
      "\n",
      "6\n",
      "\n",
      "\n"
     ]
    }
   ],
   "source": [
    "def print_tree(node):\n",
    "    if node:\n",
    "        print(node.value)\n",
    "        print(\"\\n\")\n",
    "        print_tree(node.left)\n",
    "        print_tree(node.right)\n",
    "\n",
    "print_tree(bst.root)"
   ]
  },
  {
   "cell_type": "code",
   "execution_count": null,
   "metadata": {},
   "outputs": [],
   "source": []
  }
 ],
 "metadata": {
  "kernelspec": {
   "display_name": "Python 3",
   "language": "python",
   "name": "python3"
  },
  "language_info": {
   "codemirror_mode": {
    "name": "ipython",
    "version": 3
   },
   "file_extension": ".py",
   "mimetype": "text/x-python",
   "name": "python",
   "nbconvert_exporter": "python",
   "pygments_lexer": "ipython3",
   "version": "3.10.9"
  },
  "orig_nbformat": 4
 },
 "nbformat": 4,
 "nbformat_minor": 2
}
