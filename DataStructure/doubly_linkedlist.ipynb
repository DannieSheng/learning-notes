{
 "cells": [
  {
   "cell_type": "code",
   "execution_count": 75,
   "metadata": {},
   "outputs": [],
   "source": [
    "class ListNode(object):\n",
    "    def __init__(self, value=0):\n",
    "        self.value = value\n",
    "        self.next  = None\n",
    "        self.prev  = None\n",
    "\n",
    "class DoublyLinkedList(object):\n",
    "    def __init__(self):\n",
    "        self.head = None\n",
    "        self.tail = self.head\n",
    "        self.length = 0\n",
    "\n",
    "    def printList(self):\n",
    "        if not self.head:\n",
    "            print(\"empty\")\n",
    "        else:\n",
    "            curr = self.head\n",
    "            \n",
    "            while curr:\n",
    "                ending = \".\" if not curr.next else \"->\"\n",
    "                print(curr.value, end=ending)\n",
    "                curr = curr.next\n",
    "\n",
    "    def append(self, val):\n",
    "        node = ListNode(val)\n",
    "        if self.head is None:\n",
    "            self.head = node\n",
    "            self.tail = node\n",
    "            self.length += 1\n",
    "        else:\n",
    "            node.prev = self.tail\n",
    "            self.tail.next = node\n",
    "            self.tail = node\n",
    "            self.length += 1\n",
    "\n",
    "    def prepend(self, val):\n",
    "        if self.head is None:\n",
    "            self.append(val)\n",
    "        else:\n",
    "            node = ListNode(val)\n",
    "            temp = self.head\n",
    "            \n",
    "            node.next = temp\n",
    "            temp.prev = node\n",
    "            self.head = node\n",
    "            self.length += 1\n",
    "            # print(\"xxxx\", self.length)\n",
    "\n",
    "    def insert(self, index, val):\n",
    "        if index > self.length:\n",
    "            print(\"Out of range, end...\")\n",
    "        elif index == self.length:\n",
    "            self.append(val)\n",
    "        elif index == 0:\n",
    "            self.prepend(val)\n",
    "        else:\n",
    "            curr = self.head\n",
    "            node = ListNode(val)\n",
    "            for i in range(index-1):\n",
    "                curr = curr.next\n",
    "            temp = curr.next\n",
    "\n",
    "            node.next = temp\n",
    "            node.prev = curr\n",
    "            curr.next = node\n",
    "            temp.prev = node\n",
    "            self.length += 1\n",
    "\n",
    "    def remove_by_index(self, index):\n",
    "        if index >= self.length:\n",
    "            print(\"Out of range, end...\")\n",
    "        elif index == 0:\n",
    "            curr = self.head\n",
    "            self.head = curr.next\n",
    "            self.length -= 1\n",
    "        else:\n",
    "            curr = self.head\n",
    "            for i in range(index):\n",
    "                curr = curr.next\n",
    "            prev = curr.prev\n",
    "            next = curr.next\n",
    "            prev.next = next\n",
    "            if next is not None:\n",
    "                next.prev = prev\n",
    "            self.length -= 1\n"
   ]
  },
  {
   "cell_type": "code",
   "execution_count": 76,
   "metadata": {},
   "outputs": [],
   "source": [
    "vals = [1,2, 5,6,3,10]"
   ]
  },
  {
   "cell_type": "code",
   "execution_count": 77,
   "metadata": {},
   "outputs": [
    {
     "name": "stdout",
     "output_type": "stream",
     "text": [
      "empty\n",
      "\n",
      "0\n",
      "1->2->5->6->3->10.\n",
      "6\n"
     ]
    }
   ],
   "source": [
    "mylist = DoublyLinkedList()\n",
    "mylist.printList()\n",
    "print(f\"\\n{mylist.length}\")\n",
    "\n",
    "for v in vals:\n",
    "    mylist.append(v)\n",
    "mylist.printList()\n",
    "print(f\"\\n{mylist.length}\")"
   ]
  },
  {
   "cell_type": "code",
   "execution_count": 61,
   "metadata": {},
   "outputs": [
    {
     "name": "stdout",
     "output_type": "stream",
     "text": [
      "empty\n",
      "\n",
      "0\n",
      "1->2->5->6->3->10.\n",
      "6\n"
     ]
    }
   ],
   "source": [
    "mylist = DoublyLinkedList()\n",
    "mylist.printList()\n",
    "print(f\"\\n{mylist.length}\")\n",
    "\n",
    "for v in vals[::-1]:\n",
    "    mylist.prepend(v)\n",
    "\n",
    "# mylist.prepend(v)\n",
    "mylist.printList()\n",
    "print(f\"\\n{mylist.length}\")"
   ]
  },
  {
   "cell_type": "code",
   "execution_count": 63,
   "metadata": {},
   "outputs": [
    {
     "name": "stdout",
     "output_type": "stream",
     "text": [
      "1->2->600->60->5->6->3->10.\n",
      "8\n"
     ]
    }
   ],
   "source": [
    "mylist.insert(2, 600)\n",
    "mylist.printList()\n",
    "print(f\"\\n{mylist.length}\")"
   ]
  },
  {
   "cell_type": "code",
   "execution_count": 78,
   "metadata": {},
   "outputs": [
    {
     "name": "stdout",
     "output_type": "stream",
     "text": [
      "2->5->6->3->10.\n",
      "5\n"
     ]
    }
   ],
   "source": [
    "mylist.remove_by_index(0)\n",
    "mylist.printList()\n",
    "print(f\"\\n{mylist.length}\")"
   ]
  },
  {
   "cell_type": "code",
   "execution_count": 79,
   "metadata": {},
   "outputs": [
    {
     "name": "stdout",
     "output_type": "stream",
     "text": [
      "2->5->6->3.\n",
      "4\n"
     ]
    }
   ],
   "source": [
    "mylist.remove_by_index(4)\n",
    "mylist.printList()\n",
    "print(f\"\\n{mylist.length}\")"
   ]
  },
  {
   "cell_type": "code",
   "execution_count": 80,
   "metadata": {},
   "outputs": [
    {
     "name": "stdout",
     "output_type": "stream",
     "text": [
      "2->5->3.\n",
      "3\n"
     ]
    }
   ],
   "source": [
    "mylist.remove_by_index(2)\n",
    "mylist.printList()\n",
    "print(f\"\\n{mylist.length}\")"
   ]
  },
  {
   "cell_type": "code",
   "execution_count": null,
   "metadata": {},
   "outputs": [],
   "source": []
  }
 ],
 "metadata": {
  "kernelspec": {
   "display_name": "hier_cls",
   "language": "python",
   "name": "hier_cls"
  },
  "language_info": {
   "codemirror_mode": {
    "name": "ipython",
    "version": 3
   },
   "file_extension": ".py",
   "mimetype": "text/x-python",
   "name": "python",
   "nbconvert_exporter": "python",
   "pygments_lexer": "ipython3",
   "version": "3.9.12"
  },
  "orig_nbformat": 4
 },
 "nbformat": 4,
 "nbformat_minor": 2
}
