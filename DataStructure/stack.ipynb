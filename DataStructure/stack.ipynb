{
 "cells": [
  {
   "attachments": {},
   "cell_type": "markdown",
   "metadata": {},
   "source": [
    "### Array implementation"
   ]
  },
  {
   "cell_type": "code",
   "execution_count": 8,
   "metadata": {},
   "outputs": [],
   "source": [
    "class Stack(object):\n",
    "    def __init__(self):\n",
    "        self._stack = []\n",
    "\n",
    "    def print_stack(self):\n",
    "        \"\"\"\n",
    "        Note: LIFO\n",
    "        \"\"\"\n",
    "        print(self._stack[::-1])\n",
    "\n",
    "    def push(self, item):\n",
    "        \"\"\"Push a new item to top of the stack\"\"\" \n",
    "        self._stack.append(item) # O(1)\n",
    "\n",
    "    def pop(self):\n",
    "        \"\"\"Push the item from the top of the stack\"\"\" \n",
    "        if self.is_empty():\n",
    "        # if self._stack == []:\n",
    "            raise LookupError('stack is empty!')\n",
    "        self._stack.pop() # O(1)\n",
    "\n",
    "    def is_empty(self):\n",
    "        return self._stack == []\n",
    "    \n",
    "    def peek(self):\n",
    "        return self._stack[-1]"
   ]
  },
  {
   "cell_type": "code",
   "execution_count": 9,
   "metadata": {},
   "outputs": [],
   "source": [
    "values = [4,5,6,19,80]"
   ]
  },
  {
   "cell_type": "code",
   "execution_count": 10,
   "metadata": {},
   "outputs": [
    {
     "name": "stdout",
     "output_type": "stream",
     "text": [
      "[]\n",
      "[80, 19, 6, 5, 4]\n",
      "80\n"
     ]
    }
   ],
   "source": [
    "my_stack = Stack()\n",
    "my_stack.print_stack()\n",
    "for val in values:\n",
    "    my_stack.push(val)\n",
    "my_stack.print_stack()\n",
    "print(my_stack.peek())"
   ]
  },
  {
   "cell_type": "code",
   "execution_count": 12,
   "metadata": {},
   "outputs": [
    {
     "name": "stdout",
     "output_type": "stream",
     "text": [
      "[6, 5, 4]\n"
     ]
    }
   ],
   "source": [
    "my_stack.pop()\n",
    "my_stack.print_stack()"
   ]
  },
  {
   "attachments": {},
   "cell_type": "markdown",
   "metadata": {},
   "source": [
    "### Python\n",
    "`deque` class"
   ]
  },
  {
   "cell_type": "code",
   "execution_count": null,
   "metadata": {},
   "outputs": [],
   "source": []
  },
  {
   "attachments": {},
   "cell_type": "markdown",
   "metadata": {},
   "source": [
    "### Linked list implementation"
   ]
  },
  {
   "cell_type": "code",
   "execution_count": null,
   "metadata": {},
   "outputs": [],
   "source": [
    "class ListNode(object):\n",
    "    def __init__(self, value=0):\n",
    "        self.value = value\n",
    "        self.next  = None\n",
    "\n",
    "class LinkedList(object):\n",
    "    def __init__(self):\n",
    "        self.head = None\n",
    "        self.tail = self.head\n",
    "        self.length = 0\n",
    "        \n",
    "    def print_list(self):\n",
    "        if self.head is None:\n",
    "            print(\"Empty list\")\n",
    "        else:\n",
    "            node = self.head\n",
    "            while node:\n",
    "                ending = \".\" if node.next is None else \"->\"\n",
    "                print(node.value, end=ending)\n",
    "                node = node.next\n",
    "    def append(self, val):\n",
    "        node = ListNode(val)\n",
    "        if self.head is None:\n",
    "            self.head = node\n",
    "            self.tail = self.head\n",
    "            # print(self.tail)\n",
    "        else:\n",
    "            self.tail.next = node\n",
    "            self.tail = node\n",
    "        self.length += 1\n",
    "\n",
    "    def prepend(self, val):\n",
    "        node = ListNode(val)\n",
    "        if self.head is None:\n",
    "            self.head = node\n",
    "            self.tail = self.head\n",
    "        else:\n",
    "            node.next = self.head\n",
    "            self.head = node\n",
    "        self.length += 1\n",
    "\n",
    "\n",
    "    def remove_by_index(self, index):\n",
    "        if index > self.length-1:\n",
    "            print(\"Out of range, end...\")\n",
    "        elif index == 0:\n",
    "            temp = self.head.next\n",
    "            self.head = temp\n",
    "            self.length -= 1\n",
    "        # elif index == self.lenghth-1:\n",
    "        #     pass\n",
    "        else:\n",
    "            curr = self.head\n",
    "            for i in range(index-1):\n",
    "                curr = curr.next\n",
    "            temp = curr.next.next\n",
    "            curr.next = temp\n",
    "            self.length -= 1\n"
   ]
  },
  {
   "cell_type": "code",
   "execution_count": null,
   "metadata": {},
   "outputs": [],
   "source": [
    "class StackL(object):\n",
    "    def __init__(self):\n",
    "        self._stack = LinkedList()\n",
    "\n",
    "    def print_stack(self):\n",
    "        \"\"\"\n",
    "        Note: LIFO\n",
    "        \"\"\"\n",
    "        pass\n",
    "\n",
    "    def push(self, item):\n",
    "        \"\"\"Push a new item to top of the stack\"\"\" \n",
    "        self._stack.append(item)\n",
    "\n",
    "    def pop(self):\n",
    "        \"\"\"Pop the item from the top of the stack\"\"\" \n",
    "        self._stack.remove_by_index(self._stack.length-1)\n",
    "\n",
    "    def is_empty(self):\n",
    "        pass\n",
    "    \n",
    "    def peek(self):\n",
    "        pass"
   ]
  }
 ],
 "metadata": {
  "kernelspec": {
   "display_name": "hier_cls",
   "language": "python",
   "name": "hier_cls"
  },
  "language_info": {
   "codemirror_mode": {
    "name": "ipython",
    "version": 3
   },
   "file_extension": ".py",
   "mimetype": "text/x-python",
   "name": "python",
   "nbconvert_exporter": "python",
   "pygments_lexer": "ipython3",
   "version": "3.9.12"
  },
  "orig_nbformat": 4
 },
 "nbformat": 4,
 "nbformat_minor": 2
}
