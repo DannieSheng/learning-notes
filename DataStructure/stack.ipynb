{
 "cells": [
  {
   "cell_type": "code",
   "execution_count": null,
   "metadata": {},
   "outputs": [],
   "source": [
    "class Stack(object):\n",
    "    def __init__(self):\n",
    "        self._stack = []\n",
    "\n",
    "    def push(self, item):\n",
    "        \"\"\"Push a new item to top of the stack\"\"\" \n",
    "        self._stack.append(item) # O(1)\n",
    "\n",
    "    def pop(self):\n",
    "        \"\"\"Push the item from the top of the stack\"\"\" \n",
    "        if self.__list == []:\n",
    "            raise LookupError('stack is empty!')\n",
    "        self._stack.pop() # O(1)\n",
    "\n",
    "    def is_empty(self):\n",
    "        return self._stack == []"
   ]
  }
 ],
 "metadata": {
  "language_info": {
   "name": "python"
  },
  "orig_nbformat": 4
 },
 "nbformat": 4,
 "nbformat_minor": 2
}
