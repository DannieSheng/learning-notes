{
 "cells": [
  {
   "cell_type": "code",
   "execution_count": 17,
   "metadata": {},
   "outputs": [],
   "source": [
    "class ListNode(object):\n",
    "    def __init__(self, value=0):\n",
    "        self.value = value\n",
    "        self.next  = None\n",
    "\n",
    "class LinkedList(object):\n",
    "    def __init__(self):\n",
    "        self.head = None\n",
    "        self.tail = self.head\n",
    "        self.length = 0\n",
    "        \n",
    "    def print_list(self):\n",
    "        if self.head is None:\n",
    "            print(\"Empty list\")\n",
    "        else:\n",
    "            node = self.head\n",
    "            while node:\n",
    "                ending = \".\" if node.next is None else \"->\"\n",
    "                print(node.value, end=ending)\n",
    "                node = node.next\n",
    "    def append(self, val):\n",
    "        node = ListNode(val)\n",
    "        if self.head is None:\n",
    "            self.head = node\n",
    "            self.tail = self.head\n",
    "            # print(self.tail)\n",
    "        else:\n",
    "            self.tail.next = node\n",
    "            self.tail = node\n",
    "        self.length += 1\n",
    "\n",
    "    def prepend(self, val):\n",
    "        node = ListNode(val)\n",
    "        if self.head is None:\n",
    "            self.head = node\n",
    "            self.tail = self.head\n",
    "        else:\n",
    "            node.next = self.head\n",
    "            self.head = node\n",
    "        self.length += 1\n",
    "\n",
    "\n",
    "    def insert(self, index, val):\n",
    "        node = ListNode(val)\n",
    "        if index > self.length:\n",
    "            print(\"Out of range, end...\")\n",
    "        elif index == 0:\n",
    "            self.prepend(val)\n",
    "        elif index == self.length:\n",
    "            self.append(val)\n",
    "        else:\n",
    "            head = self.head\n",
    "            k = 0\n",
    "            while k < index-1 and head:\n",
    "                head = head.next\n",
    "                k += 1\n",
    "            # if not head:\n",
    "            # else:\n",
    "            node.next = head.next\n",
    "            head.next = node\n",
    "            self.length += 1\n",
    "            \n",
    "    def remove_by_index(self, index):\n",
    "        if index > self.length-1:\n",
    "            print(\"Out of range, end...\")\n",
    "        elif index == 0:\n",
    "            temp = self.head.next\n",
    "            self.head = temp\n",
    "            self.length -= 1\n",
    "        # elif index == self.lenghth-1:\n",
    "        #     pass\n",
    "        else:\n",
    "            curr = self.head\n",
    "            for i in range(index-1):\n",
    "                curr = curr.next\n",
    "            temp = curr.next.next\n",
    "            curr.next = temp\n",
    "            self.length -= 1\n",
    "\n",
    "\n",
    "    def remove_by_value(self, val):\n",
    "        pass\n",
    "    \n",
    "    def reverse(self):\n",
    "\n",
    "        if not self.head or not self.head.next:\n",
    "            return #self\n",
    "        \n",
    "        first, second    = self.head, self.head.next\n",
    "        self.tail = self.head\n",
    "        while second:\n",
    "            third = second.next\n",
    "            second.next = first\n",
    "            first  = second\n",
    "            second = third\n",
    "        self.tail.next = None\n",
    "        self.head = first\n",
    "    # return linked_list"
   ]
  },
  {
   "cell_type": "code",
   "execution_count": 18,
   "metadata": {},
   "outputs": [
    {
     "name": "stdout",
     "output_type": "stream",
     "text": [
      "Empty list\n",
      "4->5->3->7->9.\n",
      " 5\n"
     ]
    }
   ],
   "source": [
    "list_vals = [4, 5, 3, 7, 9]\n",
    "mylist = LinkedList()\n",
    "mylist.print_list()\n",
    "for val in list_vals:\n",
    "    mylist.append(val)\n",
    "mylist.print_list()\n",
    "\n",
    "print(\"\\n\", mylist.length)"
   ]
  },
  {
   "cell_type": "code",
   "execution_count": 19,
   "metadata": {},
   "outputs": [
    {
     "name": "stdout",
     "output_type": "stream",
     "text": [
      "4->5->3->7->9.\n",
      " 5\n",
      "9->7->3->5->4.\n",
      " 5\n"
     ]
    }
   ],
   "source": [
    "# reversed = reverse(mylist)\n",
    "\n",
    "mylist.print_list()\n",
    "print(\"\\n\", mylist.length)\n",
    "mylist.reverse()\n",
    "mylist.print_list()\n",
    "print(\"\\n\", mylist.length)"
   ]
  },
  {
   "cell_type": "code",
   "execution_count": 75,
   "metadata": {},
   "outputs": [
    {
     "name": "stdout",
     "output_type": "stream",
     "text": [
      "5->3->7->9.\n",
      " 4\n"
     ]
    }
   ],
   "source": [
    "mylist.remove_by_index(0)\n",
    "mylist.print_list()\n",
    "print(\"\\n\", mylist.length)"
   ]
  },
  {
   "cell_type": "code",
   "execution_count": 77,
   "metadata": {},
   "outputs": [
    {
     "name": "stdout",
     "output_type": "stream",
     "text": [
      "5->3->7.\n",
      " 3\n"
     ]
    }
   ],
   "source": [
    "mylist.remove_by_index(3)\n",
    "mylist.print_list()\n",
    "print(\"\\n\", mylist.length)"
   ]
  },
  {
   "cell_type": "code",
   "execution_count": 62,
   "metadata": {},
   "outputs": [
    {
     "name": "stdout",
     "output_type": "stream",
     "text": [
      "8->4->5->3->7->9."
     ]
    }
   ],
   "source": [
    "mylist.insert(0, 8)\n",
    "mylist.print_list()"
   ]
  },
  {
   "cell_type": "code",
   "execution_count": 45,
   "metadata": {},
   "outputs": [
    {
     "name": "stdout",
     "output_type": "stream",
     "text": [
      "Empty list\n",
      "4->5->3->7->9."
     ]
    }
   ],
   "source": [
    "list_vals = [4, 5, 3, 7, 9]\n",
    "mylist = LinkedList()\n",
    "mylist.print_list()\n",
    "for val in list_vals[::-1]:\n",
    "    mylist.prepend(val)\n",
    "mylist.print_list()"
   ]
  },
  {
   "cell_type": "code",
   "execution_count": 5,
   "metadata": {},
   "outputs": [
    {
     "name": "stdout",
     "output_type": "stream",
     "text": [
      "2 {'a': 'booya'}\n"
     ]
    }
   ],
   "source": [
    "obj1 = {\"a\": True}\n",
    "obj2 = obj1\n",
    "obj1['a'] = \"booya\"\n",
    "del obj1\n",
    "# obj2 = \"hello\"\n",
    "# print(\"1\", obj1)\n",
    "print(\"2\", obj2)"
   ]
  },
  {
   "attachments": {},
   "cell_type": "markdown",
   "metadata": {},
   "source": [
    "### Reverse a linked list"
   ]
  },
  {
   "cell_type": "code",
   "execution_count": 14,
   "metadata": {},
   "outputs": [],
   "source": [
    "def reverse(linked_list: LinkedList) -> LinkedList:\n",
    "\n",
    "    if not linked_list.head or not linked_list.head.next:\n",
    "        return linked_list\n",
    "    \n",
    "    first, second    = linked_list.head, linked_list.head.next\n",
    "    linked_list.tail = linked_list.head\n",
    "    while second:\n",
    "        third = second.next\n",
    "        # second.next = first\n",
    "        first  = second\n",
    "        second = second.next\n",
    "    linked_list.tail.next = None\n",
    "    linked_list.head = first\n",
    "    return linked_list"
   ]
  },
  {
   "cell_type": "code",
   "execution_count": 15,
   "metadata": {},
   "outputs": [
    {
     "name": "stdout",
     "output_type": "stream",
     "text": [
      "9.\n",
      " 5\n"
     ]
    }
   ],
   "source": [
    "reversed = reverse(mylist)\n",
    "\n",
    "mylist.print_list()\n",
    "print(\"\\n\", mylist.length)\n",
    "\n",
    "# reversed.print_list()\n",
    "# print(\"\\n\", reversed.length)"
   ]
  },
  {
   "cell_type": "code",
   "execution_count": 16,
   "metadata": {},
   "outputs": [],
   "source": []
  },
  {
   "cell_type": "code",
   "execution_count": null,
   "metadata": {},
   "outputs": [],
   "source": []
  }
 ],
 "metadata": {
  "kernelspec": {
   "display_name": "hier_cls",
   "language": "python",
   "name": "hier_cls"
  },
  "language_info": {
   "codemirror_mode": {
    "name": "ipython",
    "version": 3
   },
   "file_extension": ".py",
   "mimetype": "text/x-python",
   "name": "python",
   "nbconvert_exporter": "python",
   "pygments_lexer": "ipython3",
   "version": "3.9.12"
  },
  "orig_nbformat": 4
 },
 "nbformat": 4,
 "nbformat_minor": 2
}
